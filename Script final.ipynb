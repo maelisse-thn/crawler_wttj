{
 "cells": [
  {
   "cell_type": "code",
   "execution_count": 11,
   "id": "d3f27147-1dc2-412e-9ba9-129d13f957a9",
   "metadata": {
    "tags": []
   },
   "outputs": [],
   "source": [
    "from bs4 import BeautifulSoup as bs\n",
    "import requests \n",
    "import pandas as pd\n",
    "import sqlite3\n",
    "from flask import Flask, jsonify\n",
    "import tensorflow as tf\n",
    "from tensorflow import keras\n",
    "from tensorflow.keras import layers\n",
    "from tensorflow.keras.models import Sequential\n",
    "from tensorflow.keras.layers import Embedding, Bidirectional, LSTM, Dense\n",
    "from sklearn.model_selection import train_test_split\n",
    "from tensorflow.keras.preprocessing.text import Tokenizer\n",
    "from tensorflow.keras.preprocessing.sequence import pad_sequences\n",
    "\n",
    "\n",
    "wttj_url = 'https://www.welcometothejungle.com/fr/companies/hunteed/jobs/community-success-manager-community-builder_paris?q=6d2ebe57905edc93351a1b0e81bdf060&o=802986be-3cbd-4743-8bd2-b6830b8a75a2'\n",
    "page = requests.get(wttj_url)\n",
    "page.text \n",
    "\n",
    "soup = bs(page.text, \"html.parser\")\n",
    "#if page.status_code == 200:\n",
    "    #print(f\"reussi de la requête. Code de statut: {page.status_code}\")\n",
    "#else:\n",
    "   #@ print(f\"Échec de la requête. Code de statut: {page.status_code}\")\n",
    "#soup"
   ]
  },
  {
   "cell_type": "markdown",
   "id": "f3f628eb-1e74-434f-be95-5fe0b08e310b",
   "metadata": {},
   "source": [
    "### Fonction qui récupère les informations d'une offre"
   ]
  },
  {
   "cell_type": "code",
   "execution_count": 12,
   "id": "7c2c3205-043d-4df6-90fc-cc89f0ac5cea",
   "metadata": {},
   "outputs": [
    {
     "data": {
      "text/plain": [
       "['Hunteed',\n",
       " 'Customer Success Manager B2C H/F',\n",
       " 'Paris',\n",
       " 'SaaS / Cloud Services, Recrutement, Digital',\n",
       " 'il y a 15 heures',\n",
       " 'https://www.welcometothejungle.com/fr/companies/hunteed/jobs/community-success-manager-community-builder_paris?q=6d2ebe57905edc93351a1b0e81bdf060&o=802986be-3cbd-4743-8bd2-b6830b8a75a2']"
      ]
     },
     "execution_count": 12,
     "metadata": {},
     "output_type": "execute_result"
    }
   ],
   "source": [
    "def get_info(link):\n",
    "\n",
    "    page = requests.get(link)\n",
    "    soup = bs(page.text, \"html.parser\")\n",
    "    company = soup.find('span', attrs = {'class' : \"sc-empnci hmOCpj wui-text\"}).string\n",
    "    job = soup.find('h2', attrs = {'class': \"sc-empnci cYPTxs wui-text\"}).string\n",
    "    lieu = soup.find('span', attrs = {'class': \"sc-1eoldvz-2 kGQqJy\"}).string\n",
    "    spans = soup.find_all('span', attrs = {'class': \"sc-bXCLTC kJcLKT\"})\n",
    "    try:\n",
    "        if spans:\n",
    "            start = spans[1].find_next(\"span\").string\n",
    "    except:\n",
    "        start = \"Date de prise de poste non trouvée\"\n",
    "    try : \n",
    "        if soup.find(\"time\").has_attr('datetime'):\n",
    "            debut= soup.find(\"time\").string\n",
    "    except : \n",
    "            debut = \"Non trouvé\"\n",
    "        \n",
    "    col = soup.find_all('span', attrs = {'class': \"sc-empnci klToKr wui-text\"})\n",
    "    domaine = col[0].find_next(\"span\").string\n",
    "    line = [company,job,lieu,domaine,debut,link]\n",
    "    return line\n",
    "get_info('https://www.welcometothejungle.com/fr/companies/hunteed/jobs/community-success-manager-community-builder_paris?q=6d2ebe57905edc93351a1b0e81bdf060&o=802986be-3cbd-4743-8bd2-b6830b8a75a2')"
   ]
  },
  {
   "cell_type": "markdown",
   "id": "f69287f7-ed90-4801-aa96-9d2105a576a1",
   "metadata": {},
   "source": [
    "##### Test sur une autre annonce"
   ]
  },
  {
   "cell_type": "code",
   "execution_count": 13,
   "id": "bfc9fb35-abf3-4030-9a89-1c610e9edbcf",
   "metadata": {
    "tags": []
   },
   "outputs": [],
   "source": [
    "url2 = 'https://www.welcometothejungle.com/fr/companies/favikon/jobs/charge-de-marketing-communication-h-f_paris?q=09514f03310bf102a5f7e96b624cd02e&o=b4a4fa03-9df7-48a5-b038-d98148553c03'"
   ]
  },
  {
   "cell_type": "code",
   "execution_count": 14,
   "id": "10cd0ea7-f91f-4fcb-95d9-8d6820c8796d",
   "metadata": {
    "tags": []
   },
   "outputs": [
    {
     "data": {
      "text/plain": [
       "['Favikon',\n",
       " 'Assistant(e) de Marketing & Communication H/F - Stage',\n",
       " 'Paris',\n",
       " 'AdTech  / MarTech',\n",
       " 'hier',\n",
       " 'https://www.welcometothejungle.com/fr/companies/favikon/jobs/charge-de-marketing-communication-h-f_paris?q=09514f03310bf102a5f7e96b624cd02e&o=b4a4fa03-9df7-48a5-b038-d98148553c03']"
      ]
     },
     "execution_count": 14,
     "metadata": {},
     "output_type": "execute_result"
    }
   ],
   "source": [
    "get_info(url2)"
   ]
  },
  {
   "cell_type": "markdown",
   "id": "842a5396-99bb-4485-aa0f-1648cb782236",
   "metadata": {},
   "source": [
    "### Fonction qui recupère toutes les infos des toutes les annonces"
   ]
  },
  {
   "cell_type": "code",
   "execution_count": 15,
   "id": "ca077565-48bf-44aa-9f47-511a3a050bde",
   "metadata": {
    "tags": []
   },
   "outputs": [],
   "source": [
    "jobs_list = []\n",
    "for i in range(1,35):\n",
    "    all_jobs = \"https://www.welcometothejungle.com/fr/jobs?query=communication&refinementList%5Boffices.country_code%5D%5B%5D=FR&page=\"+str(i)\n",
    "    page = requests.get(all_jobs)\n",
    "    soup = bs(page.text,'html.parser')\n",
    "    divs = soup.find_all('div',class_=\"sc-bXCLTC sc-emIrwa bsJILN sc-6i2fyx-4 bpkkNp\")"
   ]
  },
  {
   "cell_type": "code",
   "execution_count": 16,
   "id": "b36e7b0b-f61d-4533-ae4f-458fb235b41b",
   "metadata": {
    "tags": []
   },
   "outputs": [
    {
     "name": "stdout",
     "output_type": "stream",
     "text": [
      "0\n"
     ]
    }
   ],
   "source": [
    "for div in divs : \n",
    "        a = div.find(\"a\")\n",
    "        if (\"/fr/companies\" in a[\"href\"]) and (a[\"href\"] not in jobs_list):\n",
    "            jobs_list.append(a[\"href\"])\n",
    "            \n",
    "            \n",
    "jobs_list = list(set(jobs_list)) # évite les doublons\n",
    "#len(jobs_list)\n",
    "\n",
    "print(len(jobs_list))\n"
   ]
  },
  {
   "cell_type": "markdown",
   "id": "1ee5bc90-9811-4dd9-90ac-937d7851ff77",
   "metadata": {},
   "source": [
    "#### Remarque : il y a un soucis sur cette ligne de code :  divs = soup.find_all('div',class_=\"sc-bXCLTC sc-emIrwa bsJILN sc-6i2fyx-4 bpkkNp\") , la class n'est pas la bonne donc ça ne peut pas récupérer les infos de de toutes les offres, je ne peut pas récupérer la calss qui nous intéresse car il me semble qu'elles sont générées aléatoirement à cause du javascript."
   ]
  },
  {
   "cell_type": "markdown",
   "id": "6de117bd-e694-4593-ab23-15333a171e98",
   "metadata": {},
   "source": [
    "### Création de la database"
   ]
  },
  {
   "cell_type": "code",
   "execution_count": 17,
   "id": "c206c94d-8fa5-411a-b7d9-496640942b53",
   "metadata": {},
   "outputs": [
    {
     "data": {
      "text/html": [
       "<div>\n",
       "<style scoped>\n",
       "    .dataframe tbody tr th:only-of-type {\n",
       "        vertical-align: middle;\n",
       "    }\n",
       "\n",
       "    .dataframe tbody tr th {\n",
       "        vertical-align: top;\n",
       "    }\n",
       "\n",
       "    .dataframe thead th {\n",
       "        text-align: right;\n",
       "    }\n",
       "</style>\n",
       "<table border=\"1\" class=\"dataframe\">\n",
       "  <thead>\n",
       "    <tr style=\"text-align: right;\">\n",
       "      <th></th>\n",
       "      <th>Company</th>\n",
       "      <th>Job</th>\n",
       "      <th>Lieu</th>\n",
       "      <th>Domaine</th>\n",
       "      <th>Mise en ligne</th>\n",
       "      <th>Link</th>\n",
       "    </tr>\n",
       "  </thead>\n",
       "  <tbody>\n",
       "  </tbody>\n",
       "</table>\n",
       "</div>"
      ],
      "text/plain": [
       "Empty DataFrame\n",
       "Columns: [Company, Job, Lieu, Domaine, Mise en ligne, Link]\n",
       "Index: []"
      ]
     },
     "execution_count": 17,
     "metadata": {},
     "output_type": "execute_result"
    }
   ],
   "source": [
    "base = \"https://www.welcometothejungle.com\"\n",
    "df = pd.DataFrame(columns=[\"Company\",\"Job\",\"Lieu\",\"Domaine\",\"Mise en ligne\",\"Link\"])\n",
    "\n",
    "for job in jobs_list : \n",
    "    #print(\"Ofrre \",i)\n",
    "    row = get_info(base+job)\n",
    "    a = pd.DataFrame([row],columns=[\"Company\",\"Job\",\"Lieu\",\"Domaine\",\"Mise en ligne\",\"Link\"])\n",
    "    df = pd.concat([df,a],ignore_index=True)\n",
    "    \n",
    "    #print(\"---------------------------\")\n",
    "df = df.drop_duplicates().reset_index(drop=True)\n",
    "df"
   ]
  },
  {
   "cell_type": "markdown",
   "id": "3fe25c93-30d8-4529-9ef3-602d29e52ff3",
   "metadata": {},
   "source": [
    "### Convertion en fichier csv"
   ]
  },
  {
   "cell_type": "code",
   "execution_count": 18,
   "id": "e569c0fc-a456-4ebf-8ad0-264bd35eb454",
   "metadata": {
    "tags": []
   },
   "outputs": [],
   "source": [
    "df.to_csv(r'./welcome_to_the¨jungle.csv', index=False, header=True)"
   ]
  },
  {
   "cell_type": "markdown",
   "id": "4a150683-d730-40ee-ac31-9b858e60fbf0",
   "metadata": {},
   "source": [
    "#### Remarque: Comme ma database est vide je ne peux pas tester la suite du code"
   ]
  },
  {
   "cell_type": "markdown",
   "id": "f07a8adc-f532-4388-bdf4-aab54295759e",
   "metadata": {},
   "source": [
    "### Préparation des données "
   ]
  },
  {
   "cell_type": "code",
   "execution_count": 19,
   "id": "6e161fc1-8219-4a08-8469-b187e520acc2",
   "metadata": {
    "tags": []
   },
   "outputs": [],
   "source": [
    "categories_uniques = df['Domaine'].unique()\n",
    "\n",
    "for category in categories_uniques:\n",
    "    df[f'is_{category}'] = df['Domaine'].apply(lambda x: 1 if category in x else 0)"
   ]
  },
  {
   "cell_type": "code",
   "execution_count": 21,
   "id": "043c9a5e-4ab6-4ee1-9657-d9b5ed606473",
   "metadata": {
    "tags": []
   },
   "outputs": [
    {
     "ename": "ValueError",
     "evalue": "max() arg is an empty sequence",
     "output_type": "error",
     "traceback": [
      "\u001b[0;31m---------------------------------------------------------------------------\u001b[0m",
      "\u001b[0;31mValueError\u001b[0m                                Traceback (most recent call last)",
      "Cell \u001b[0;32mIn[21], line 4\u001b[0m\n\u001b[1;32m      2\u001b[0m tokenizer\u001b[38;5;241m.\u001b[39mfit_on_texts(categories_uniques)\n\u001b[1;32m      3\u001b[0m sequences \u001b[38;5;241m=\u001b[39m tokenizer\u001b[38;5;241m.\u001b[39mtexts_to_sequences(categories_uniques)\n\u001b[0;32m----> 4\u001b[0m max_length \u001b[38;5;241m=\u001b[39m \u001b[38;5;28;43mmax\u001b[39;49m\u001b[43m(\u001b[49m\u001b[38;5;28;43mlen\u001b[39;49m\u001b[43m(\u001b[49m\u001b[43mseq\u001b[49m\u001b[43m)\u001b[49m\u001b[43m \u001b[49m\u001b[38;5;28;43;01mfor\u001b[39;49;00m\u001b[43m \u001b[49m\u001b[43mseq\u001b[49m\u001b[43m \u001b[49m\u001b[38;5;129;43;01min\u001b[39;49;00m\u001b[43m \u001b[49m\u001b[43msequences\u001b[49m\u001b[43m)\u001b[49m\n\u001b[1;32m      5\u001b[0m padded_sequences \u001b[38;5;241m=\u001b[39m pad_sequences(sequences, maxlen\u001b[38;5;241m=\u001b[39mmax_length, padding\u001b[38;5;241m=\u001b[39m\u001b[38;5;124m'\u001b[39m\u001b[38;5;124mpost\u001b[39m\u001b[38;5;124m'\u001b[39m, truncating\u001b[38;5;241m=\u001b[39m\u001b[38;5;124m'\u001b[39m\u001b[38;5;124mpost\u001b[39m\u001b[38;5;124m'\u001b[39m)\n",
      "\u001b[0;31mValueError\u001b[0m: max() arg is an empty sequence"
     ]
    }
   ],
   "source": [
    "tokenizer = Tokenizer()\n",
    "tokenizer.fit_on_texts(categories_uniques)\n",
    "sequences = tokenizer.texts_to_sequences(categories_uniques)\n",
    "max_length = max(len(seq) for seq in sequences)\n",
    "padded_sequences = pad_sequences(sequences, maxlen=max_length, padding='post', truncating='post')"
   ]
  },
  {
   "cell_type": "markdown",
   "id": "e97d428a-f507-4296-b817-983edfcd49d4",
   "metadata": {},
   "source": [
    "### Création des ensembles d'entraînement et de test"
   ]
  },
  {
   "cell_type": "code",
   "execution_count": 23,
   "id": "8d8fd567-d4f9-4f82-9b13-222dcfb3c3e1",
   "metadata": {
    "tags": []
   },
   "outputs": [
    {
     "ename": "NameError",
     "evalue": "name 'padded_sequences' is not defined",
     "output_type": "error",
     "traceback": [
      "\u001b[0;31m---------------------------------------------------------------------------\u001b[0m",
      "\u001b[0;31mNameError\u001b[0m                                 Traceback (most recent call last)",
      "Cell \u001b[0;32mIn[23], line 2\u001b[0m\n\u001b[1;32m      1\u001b[0m split_index \u001b[38;5;241m=\u001b[39m \u001b[38;5;28mint\u001b[39m(\u001b[38;5;241m0.8\u001b[39m \u001b[38;5;241m*\u001b[39m \u001b[38;5;28mlen\u001b[39m(categories_uniques))\n\u001b[0;32m----> 2\u001b[0m train_data \u001b[38;5;241m=\u001b[39m \u001b[43mpadded_sequences\u001b[49m[:split_index]\n\u001b[1;32m      3\u001b[0m test_data \u001b[38;5;241m=\u001b[39m padded_sequences[split_index:]\n\u001b[1;32m      4\u001b[0m train_labels \u001b[38;5;241m=\u001b[39m labels[:split_index]\n",
      "\u001b[0;31mNameError\u001b[0m: name 'padded_sequences' is not defined"
     ]
    }
   ],
   "source": [
    "split_index = int(0.8 * len(categories_uniques))\n",
    "train_data = padded_sequences[:split_index]\n",
    "test_data = padded_sequences[split_index:]"
   ]
  },
  {
   "cell_type": "markdown",
   "id": "a06c4115-20c9-4004-9173-7586cf2ddb81",
   "metadata": {},
   "source": [
    "### Création du modèle"
   ]
  },
  {
   "cell_type": "code",
   "execution_count": 25,
   "id": "e77a15b1-fc80-4d84-ae09-0383b6072e2d",
   "metadata": {
    "tags": []
   },
   "outputs": [
    {
     "ename": "NameError",
     "evalue": "name 'max_length' is not defined",
     "output_type": "error",
     "traceback": [
      "\u001b[0;31m---------------------------------------------------------------------------\u001b[0m",
      "\u001b[0;31mNameError\u001b[0m                                 Traceback (most recent call last)",
      "Cell \u001b[0;32mIn[25], line 6\u001b[0m\n\u001b[1;32m      2\u001b[0m embedding_dim \u001b[38;5;241m=\u001b[39m \u001b[38;5;241m16\u001b[39m\n\u001b[1;32m      3\u001b[0m num_categories \u001b[38;5;241m=\u001b[39m \u001b[38;5;28mlen\u001b[39m(categories_uniques)\n\u001b[1;32m      5\u001b[0m model \u001b[38;5;241m=\u001b[39m Sequential([\n\u001b[0;32m----> 6\u001b[0m     Embedding(input_dim\u001b[38;5;241m=\u001b[39mvocab_size, output_dim\u001b[38;5;241m=\u001b[39membedding_dim, input_length\u001b[38;5;241m=\u001b[39m\u001b[43mmax_length\u001b[49m),\n\u001b[1;32m      7\u001b[0m     Bidirectional(LSTM(\u001b[38;5;241m64\u001b[39m)),\n\u001b[1;32m      8\u001b[0m     Dense(\u001b[38;5;241m64\u001b[39m, activation\u001b[38;5;241m=\u001b[39m\u001b[38;5;124m'\u001b[39m\u001b[38;5;124mrelu\u001b[39m\u001b[38;5;124m'\u001b[39m),\n\u001b[1;32m      9\u001b[0m     Dense(num_categories, activation\u001b[38;5;241m=\u001b[39m\u001b[38;5;124m'\u001b[39m\u001b[38;5;124msoftmax\u001b[39m\u001b[38;5;124m'\u001b[39m)\n\u001b[1;32m     10\u001b[0m ])\n\u001b[1;32m     12\u001b[0m model\u001b[38;5;241m.\u001b[39mcompile(optimizer\u001b[38;5;241m=\u001b[39m\u001b[38;5;124m'\u001b[39m\u001b[38;5;124madam\u001b[39m\u001b[38;5;124m'\u001b[39m, loss\u001b[38;5;241m=\u001b[39m\u001b[38;5;124m'\u001b[39m\u001b[38;5;124msparse_categorical_crossentropy\u001b[39m\u001b[38;5;124m'\u001b[39m, metrics\u001b[38;5;241m=\u001b[39m[\u001b[38;5;124m'\u001b[39m\u001b[38;5;124maccuracy\u001b[39m\u001b[38;5;124m'\u001b[39m])\n",
      "\u001b[0;31mNameError\u001b[0m: name 'max_length' is not defined"
     ]
    }
   ],
   "source": [
    "vocab_size = len(tokenizer.word_index) + 1\n",
    "embedding_dim = 16\n",
    "num_categories = len(categories_uniques)\n",
    "\n",
    "model = Sequential([\n",
    "    Embedding(input_dim=vocab_size, output_dim=embedding_dim, input_length=max_length),\n",
    "    Bidirectional(LSTM(64)),\n",
    "    Dense(64, activation='relu'),\n",
    "    Dense(num_categories, activation='softmax')\n",
    "])\n",
    "\n",
    "model.compile(optimizer='adam', loss='sparse_categorical_crossentropy', metrics=['accuracy'])\n"
   ]
  },
  {
   "cell_type": "markdown",
   "id": "2609bede-5189-4a1d-aa9f-689ab6095aff",
   "metadata": {},
   "source": [
    "### Entrainement du model"
   ]
  },
  {
   "cell_type": "code",
   "execution_count": 26,
   "id": "f34fa9f4-8742-4245-bda7-0122a05365df",
   "metadata": {
    "tags": []
   },
   "outputs": [
    {
     "ename": "NameError",
     "evalue": "name 'model' is not defined",
     "output_type": "error",
     "traceback": [
      "\u001b[0;31m---------------------------------------------------------------------------\u001b[0m",
      "\u001b[0;31mNameError\u001b[0m                                 Traceback (most recent call last)",
      "Cell \u001b[0;32mIn[26], line 2\u001b[0m\n\u001b[1;32m      1\u001b[0m num_epochs \u001b[38;5;241m=\u001b[39m \u001b[38;5;241m10\u001b[39m\n\u001b[0;32m----> 2\u001b[0m \u001b[43mmodel\u001b[49m\u001b[38;5;241m.\u001b[39mfit(train_data, epochs\u001b[38;5;241m=\u001b[39mnum_epochs, validation_data\u001b[38;5;241m=\u001b[39m(test_data))\n",
      "\u001b[0;31mNameError\u001b[0m: name 'model' is not defined"
     ]
    }
   ],
   "source": [
    "num_epochs = 10\n",
    "model.fit(train_data, epochs=num_epochs, validation_data=(test_data))"
   ]
  },
  {
   "cell_type": "code",
   "execution_count": null,
   "id": "e63e11fc-3c20-430f-8d15-cae414bb01d0",
   "metadata": {},
   "outputs": [],
   "source": [
    "test_loss, test_acc = model.evaluate(test_data)\n",
    "print(f\"Test Accuracy: {test_acc}\")"
   ]
  },
  {
   "cell_type": "markdown",
   "id": "5420f635-8b86-46b0-9d63-44da60220cff",
   "metadata": {},
   "source": [
    "### Création de l'API"
   ]
  },
  {
   "cell_type": "code",
   "execution_count": null,
   "id": "6f8b2c4b-0ef1-48b3-b259-6b9586a956e5",
   "metadata": {},
   "outputs": [],
   "source": [
    "app = Flask(__name__)\n",
    "\n",
    "conn = sqlite3.connect('wttj.db')\n",
    "cursor = conn.cursor()\n",
    "\n",
    "@app.route('/api/offres_filtrees', methods=['GET'])\n",
    "def get_offres_filtrees():\n",
    "\n",
    "    cursor.execute(\"select * from offres where Lieu='Paris'\")\n",
    "    result = cursor.fetchall()"
   ]
  },
  {
   "cell_type": "markdown",
   "id": "7a5805f5-c432-4f4f-9d88-ba69f05a7822",
   "metadata": {},
   "source": [
    "### Convertir en un format JSON"
   ]
  },
  {
   "cell_type": "code",
   "execution_count": null,
   "id": "d253d421-7844-4c03-93ff-762badf79a32",
   "metadata": {},
   "outputs": [],
   "source": [
    "offres_json = []\n",
    "for offre in result:\n",
    "    offre_dict = {\n",
    "        'Company': offre[0],\n",
    "        'Job': offre[1],\n",
    "        'Lieu': offre[2],\n",
    "        'Domaine': offre[3],\n",
    "        'Mise en ligne': offre[4],\n",
    "        'Link': offre[5]\n",
    "    }\n",
    "    offres_json.append(offre_dict)\n",
    "\n",
    "return jsonify({'offres_filtrees': offres_json})"
   ]
  },
  {
   "cell_type": "markdown",
   "id": "1e659b1f-cda3-4b84-9627-178f80449e67",
   "metadata": {},
   "source": [
    "### Récupération de JSON en ligne"
   ]
  },
  {
   "cell_type": "code",
   "execution_count": null,
   "id": "da6da1c2-79e9-430d-94d5-1bc86c976c25",
   "metadata": {},
   "outputs": [],
   "source": [
    "def recuperation_json(url):\n",
    "    try:\n",
    "        response = requests.get(url)\n",
    "        \n",
    "        if response.status_code == 200:\n",
    "            return response.json()\n",
    "        else:\n",
    "            print(f\"Erreur de requête HTTP : {response.status_code}\")\n",
    "            return None\n",
    "    except Exception as e:\n",
    "        print(f\"Une erreur s'est produite : {e}\")\n",
    "        return None\n",
    "    \n",
    "recuperation_json(url)"
   ]
  },
  {
   "cell_type": "markdown",
   "id": "412d2f1d-b492-47bf-a9bb-43d1e4d98aad",
   "metadata": {},
   "source": []
  }
 ],
 "metadata": {
  "kernelspec": {
   "display_name": "Python 3 (ipykernel)",
   "language": "python",
   "name": "python3"
  },
  "language_info": {
   "codemirror_mode": {
    "name": "ipython",
    "version": 3
   },
   "file_extension": ".py",
   "mimetype": "text/x-python",
   "name": "python",
   "nbconvert_exporter": "python",
   "pygments_lexer": "ipython3",
   "version": "3.8.18"
  }
 },
 "nbformat": 4,
 "nbformat_minor": 5
}
