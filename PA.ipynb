{
 "cells": [
  {
   "cell_type": "code",
   "execution_count": 1,
   "id": "d3f27147-1dc2-412e-9ba9-129d13f957a9",
   "metadata": {
    "tags": []
   },
   "outputs": [],
   "source": [
    "from bs4 import BeautifulSoup as bs\n",
    "import requests \n",
    "import pandas as pd\n",
    "\n",
    "\n",
    "wttj_url = 'https://www.welcometothejungle.com/fr/companies/hunteed/jobs/community-success-manager-community-builder_paris?q=6d2ebe57905edc93351a1b0e81bdf060&o=802986be-3cbd-4743-8bd2-b6830b8a75a2'\n",
    "page = requests.get(wttj_url)\n",
    "page.text \n",
    "\n",
    "soup = bs(page.text, \"html.parser\")\n",
    "#if page.status_code == 200:\n",
    "    #print(f\"reussi de la requête. Code de statut: {page.status_code}\")\n",
    "#else:\n",
    "   #@ print(f\"Échec de la requête. Code de statut: {page.status_code}\")\n",
    "#soup"
   ]
  },
  {
   "cell_type": "code",
   "execution_count": 2,
   "id": "7c2c3205-043d-4df6-90fc-cc89f0ac5cea",
   "metadata": {},
   "outputs": [
    {
     "data": {
      "text/plain": [
       "['Hunteed',\n",
       " 'Customer Success Manager B2C H/F',\n",
       " 'Paris',\n",
       " 'SaaS / Cloud Services, Recrutement, Digital',\n",
       " 'il y a 8 heures',\n",
       " 'https://www.welcometothejungle.com/fr/companies/hunteed/jobs/community-success-manager-community-builder_paris?q=6d2ebe57905edc93351a1b0e81bdf060&o=802986be-3cbd-4743-8bd2-b6830b8a75a2']"
      ]
     },
     "execution_count": 2,
     "metadata": {},
     "output_type": "execute_result"
    }
   ],
   "source": [
    "def get_info(link):\n",
    "\n",
    "    page = requests.get(link)\n",
    "    soup = bs(page.text, \"html.parser\")\n",
    "    company = soup.find('span', attrs = {'class' : \"sc-empnci hmOCpj wui-text\"}).string\n",
    "    job = soup.find('h2', attrs = {'class': \"sc-empnci cYPTxs wui-text\"}).string\n",
    "    lieu = soup.find('span', attrs = {'class': \"sc-1eoldvz-2 kGQqJy\"}).string\n",
    "    spans = soup.find_all('span', attrs = {'class': \"sc-bXCLTC kJcLKT\"})\n",
    "    try:\n",
    "        if spans:\n",
    "            start = spans[1].find_next(\"span\").string\n",
    "    except:\n",
    "        start = \"Date de prise de poste non trouvée\"\n",
    "    try : \n",
    "        if soup.find(\"time\").has_attr('datetime'):\n",
    "            debut= soup.find(\"time\").string\n",
    "    except : \n",
    "            debut = \"Non trouvé\"\n",
    "        \n",
    "    col = soup.find_all('span', attrs = {'class': \"sc-empnci klToKr wui-text\"})\n",
    "    domaine = col[0].find_next(\"span\").string\n",
    "    line = [company,job,lieu,domaine,debut,link]\n",
    "    return line\n",
    "get_info('https://www.welcometothejungle.com/fr/companies/hunteed/jobs/community-success-manager-community-builder_paris?q=6d2ebe57905edc93351a1b0e81bdf060&o=802986be-3cbd-4743-8bd2-b6830b8a75a2')"
   ]
  },
  {
   "cell_type": "code",
   "execution_count": 3,
   "id": "ca077565-48bf-44aa-9f47-511a3a050bde",
   "metadata": {
    "tags": []
   },
   "outputs": [],
   "source": [
    "jobs_list = []\n",
    "for i in range(1,35):\n",
    "    all_jobs = \"https://www.welcometothejungle.com/fr/jobs?query=communication&refinementList%5Boffices.country_code%5D%5B%5D=FR&page=\"+str(i)\n",
    "    page = requests.get(all_jobs)\n",
    "    soup = bs(page.text,'html.parser')\n",
    "    divs = soup.find_all('div',class_=\"sc-bXCLTC sc-emIrwa bsJILN sc-6i2fyx-4 bpkkNp\")"
   ]
  },
  {
   "cell_type": "code",
   "execution_count": 4,
   "id": "b36e7b0b-f61d-4533-ae4f-458fb235b41b",
   "metadata": {
    "tags": []
   },
   "outputs": [
    {
     "name": "stdout",
     "output_type": "stream",
     "text": [
      "0\n"
     ]
    }
   ],
   "source": [
    "for div in divs : \n",
    "        a = div.find(\"a\")\n",
    "        if (\"/fr/companies\" in a[\"href\"]) and (a[\"href\"] not in jobs_list):\n",
    "            jobs_list.append(a[\"href\"])\n",
    "            \n",
    "            \n",
    "jobs_list = list(set(jobs_list)) # évite les doublons\n",
    "#len(jobs_list)\n",
    "\n",
    "print(len(jobs_list))\n"
   ]
  },
  {
   "cell_type": "code",
   "execution_count": 5,
   "id": "c206c94d-8fa5-411a-b7d9-496640942b53",
   "metadata": {},
   "outputs": [
    {
     "data": {
      "text/html": [
       "<div>\n",
       "<style scoped>\n",
       "    .dataframe tbody tr th:only-of-type {\n",
       "        vertical-align: middle;\n",
       "    }\n",
       "\n",
       "    .dataframe tbody tr th {\n",
       "        vertical-align: top;\n",
       "    }\n",
       "\n",
       "    .dataframe thead th {\n",
       "        text-align: right;\n",
       "    }\n",
       "</style>\n",
       "<table border=\"1\" class=\"dataframe\">\n",
       "  <thead>\n",
       "    <tr style=\"text-align: right;\">\n",
       "      <th></th>\n",
       "      <th>Company</th>\n",
       "      <th>Job</th>\n",
       "      <th>Lieu</th>\n",
       "      <th>Domaine</th>\n",
       "      <th>Mise en ligne</th>\n",
       "      <th>Link</th>\n",
       "    </tr>\n",
       "  </thead>\n",
       "  <tbody>\n",
       "  </tbody>\n",
       "</table>\n",
       "</div>"
      ],
      "text/plain": [
       "Empty DataFrame\n",
       "Columns: [Company, Job, Lieu, Domaine, Mise en ligne, Link]\n",
       "Index: []"
      ]
     },
     "execution_count": 5,
     "metadata": {},
     "output_type": "execute_result"
    }
   ],
   "source": [
    "base = \"https://www.welcometothejungle.com\"\n",
    "df = pd.DataFrame(columns=[\"Company\",\"Job\",\"Lieu\",\"Domaine\",\"Mise en ligne\",\"Link\"])\n",
    "\n",
    "for job in jobs_list : \n",
    "    #print(\"Ofrre \",i)\n",
    "    row = get_info(base+job)\n",
    "    a = pd.DataFrame([row],columns=[\"Company\",\"Job\",\"Lieu\",\"Domaine\",\"Mise en ligne\",\"Link\"])\n",
    "    df = pd.concat([df,a],ignore_index=True)\n",
    "    \n",
    "    #print(\"---------------------------\")\n",
    "df = df.drop_duplicates().reset_index(drop=True)\n",
    "df"
   ]
  },
  {
   "cell_type": "code",
   "execution_count": null,
   "id": "b372e41f-d766-44f4-9e08-a4a96143a4fe",
   "metadata": {},
   "outputs": [],
   "source": []
  },
  {
   "cell_type": "code",
   "execution_count": 6,
   "id": "e569c0fc-a456-4ebf-8ad0-264bd35eb454",
   "metadata": {
    "tags": []
   },
   "outputs": [],
   "source": [
    "df.to_csv(r'./welcome_to_the¨jungle.csv', index=False, header=True)"
   ]
  },
  {
   "cell_type": "code",
   "execution_count": null,
   "id": "6f474eec-deaf-4e18-821e-f064dd4ceeab",
   "metadata": {},
   "outputs": [],
   "source": []
  }
 ],
 "metadata": {
  "kernelspec": {
   "display_name": "Python 3 (ipykernel)",
   "language": "python",
   "name": "python3"
  },
  "language_info": {
   "codemirror_mode": {
    "name": "ipython",
    "version": 3
   },
   "file_extension": ".py",
   "mimetype": "text/x-python",
   "name": "python",
   "nbconvert_exporter": "python",
   "pygments_lexer": "ipython3",
   "version": "3.8.18"
  }
 },
 "nbformat": 4,
 "nbformat_minor": 5
}
