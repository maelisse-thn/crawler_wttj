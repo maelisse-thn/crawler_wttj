{
 "cells": [
  {
   "cell_type": "code",
   "execution_count": 10,
   "id": "ccc451a3-f2d1-48db-93ed-27a30221f310",
   "metadata": {
    "tags": []
   },
   "outputs": [],
   "source": [
    "from bs4 import BeautifulSoup as bs\n",
    "import requests \n",
    "import pandas as pd\n",
    "import tensorflow as tf\n",
    "from tensorflow import keras\n",
    "from tensorflow.keras import layers\n",
    "from tensorflow.keras.models import Sequential\n",
    "from tensorflow.keras.layers import Embedding, Bidirectional, LSTM, Dense\n",
    "\n",
    "wttj_url = 'https://www.welcometothejungle.com/fr/companies/hunteed/jobs/community-success-manager-community-builder_paris?q=6d2ebe57905edc93351a1b0e81bdf060&o=802986be-3cbd-4743-8bd2-b6830b8a75a2'\n",
    "page = requests.get(wttj_url)\n",
    "page.text \n",
    "\n",
    "soup = bs(page.text, \"html.parser\")\n",
    "#if page.status_code == 200:\n",
    "    #print(f\"reussi de la requête. Code de statut: {page.status_code}\")\n",
    "#else:\n",
    "   #@ print(f\"Échec de la requête. Code de statut: {page.status_code}\")\n",
    "#soup"
   ]
  },
  {
   "cell_type": "code",
   "execution_count": 2,
   "id": "ac34a757-0dec-4326-8cc8-de5e8b1a0a49",
   "metadata": {
    "tags": []
   },
   "outputs": [
    {
     "data": {
      "text/plain": [
       "['Hunteed',\n",
       " 'Customer Success Manager B2C H/F',\n",
       " 'Paris',\n",
       " 'SaaS / Cloud Services, Recrutement, Digital',\n",
       " 'il y a 8 heures',\n",
       " 'https://www.welcometothejungle.com/fr/companies/hunteed/jobs/community-success-manager-community-builder_paris?q=6d2ebe57905edc93351a1b0e81bdf060&o=802986be-3cbd-4743-8bd2-b6830b8a75a2']"
      ]
     },
     "execution_count": 2,
     "metadata": {},
     "output_type": "execute_result"
    }
   ],
   "source": [
    "def get_info(link):\n",
    "\n",
    "    page = requests.get(link)\n",
    "    soup = bs(page.text, \"html.parser\")\n",
    "    company = soup.find('span', attrs = {'class' : \"sc-empnci hmOCpj wui-text\"}).string\n",
    "    job = soup.find('h2', attrs = {'class': \"sc-empnci cYPTxs wui-text\"}).string\n",
    "    lieu = soup.find('span', attrs = {'class': \"sc-1eoldvz-2 kGQqJy\"}).string\n",
    "    spans = soup.find_all('span', attrs = {'class': \"sc-bXCLTC kJcLKT\"})\n",
    "    try:\n",
    "        if spans:\n",
    "            start = spans[1].find_next(\"span\").string\n",
    "    except:\n",
    "        start = \"Date de prise de poste non trouvée\"\n",
    "    try : \n",
    "        if soup.find(\"time\").has_attr('datetime'):\n",
    "            debut= soup.find(\"time\").string\n",
    "    except : \n",
    "            debut = \"Non trouvé\"\n",
    "        \n",
    "    col = soup.find_all('span', attrs = {'class': \"sc-empnci klToKr wui-text\"})\n",
    "    domaine = col[0].find_next(\"span\").string\n",
    "    line = [company,job,lieu,domaine,debut,link]\n",
    "    return line\n",
    "get_info('https://www.welcometothejungle.com/fr/companies/hunteed/jobs/community-success-manager-community-builder_paris?q=6d2ebe57905edc93351a1b0e81bdf060&o=802986be-3cbd-4743-8bd2-b6830b8a75a2')"
   ]
  },
  {
   "cell_type": "code",
   "execution_count": 3,
   "id": "9ddc820f-f507-4b79-ac4b-03c96b9e2054",
   "metadata": {
    "tags": []
   },
   "outputs": [],
   "source": [
    "tous = soup.find_all('span')\n",
    "\n",
    "#line=[company,job,lieu,contrat,debut,domaine,taille]\n",
    "#return line "
   ]
  },
  {
   "cell_type": "code",
   "execution_count": 4,
   "id": "ea769d35-d0e6-476c-b8eb-7d954f5e6ddc",
   "metadata": {
    "tags": []
   },
   "outputs": [],
   "source": [
    "url2 = 'https://www.welcometothejungle.com/fr/companies/favikon/jobs/charge-de-marketing-communication-h-f_paris?q=09514f03310bf102a5f7e96b624cd02e&o=b4a4fa03-9df7-48a5-b038-d98148553c03'"
   ]
  },
  {
   "cell_type": "code",
   "execution_count": 5,
   "id": "d9bac90f-cad4-4fbd-903b-21b9637a32c7",
   "metadata": {
    "tags": []
   },
   "outputs": [
    {
     "data": {
      "text/plain": [
       "['Favikon',\n",
       " 'Assistant(e) de Marketing & Communication H/F - Stage',\n",
       " 'Paris',\n",
       " 'AdTech  / MarTech',\n",
       " 'hier',\n",
       " 'https://www.welcometothejungle.com/fr/companies/favikon/jobs/charge-de-marketing-communication-h-f_paris?q=09514f03310bf102a5f7e96b624cd02e&o=b4a4fa03-9df7-48a5-b038-d98148553c03']"
      ]
     },
     "execution_count": 5,
     "metadata": {},
     "output_type": "execute_result"
    }
   ],
   "source": [
    "get_info(url2)"
   ]
  },
  {
   "cell_type": "code",
   "execution_count": 6,
   "id": "41b06e00-5fa3-48a1-8ea1-a297e7c742cd",
   "metadata": {
    "tags": []
   },
   "outputs": [
    {
     "name": "stdout",
     "output_type": "stream",
     "text": [
      "0\n"
     ]
    }
   ],
   "source": [
    "jobs_list = []\n",
    "page_number = 1\n",
    "\n",
    "for i in range(1,35):\n",
    "    all_jobs = f\"https://www.welcometothejungle.com/fr/jobs?query=&page={page_number}&aroundQuery=worldwide\"\n",
    "    page_number +=1\n",
    "    page = requests.get(all_jobs)\n",
    "    soup = bs(page.text,'html.parser')\n",
    "    divs = soup.find_all('div',class_=\"sc-bXCLTC sc-emIrwa bsJILN sc-6i2fyx-4 bpkkNp\")\n",
    "    for div in divs : \n",
    "        a = div.find(\"a\")\n",
    "        if (\"/fr/companies\" in a[\"href\"]) and (a[\"href\"] not in jobs_list):\n",
    "            jobs_list.append(a[\"href\"])\n",
    "            \n",
    "            \n",
    "            \n",
    "jobs_list = list(set(jobs_list)) # évite les doublons\n",
    "#len(jobs_list)\n",
    "\n",
    "print(len(jobs_list))"
   ]
  },
  {
   "cell_type": "code",
   "execution_count": 29,
   "id": "c64c4d03-0f17-4780-8424-5e9a771b9edb",
   "metadata": {
    "tags": []
   },
   "outputs": [
    {
     "data": {
      "text/html": [
       "<div>\n",
       "<style scoped>\n",
       "    .dataframe tbody tr th:only-of-type {\n",
       "        vertical-align: middle;\n",
       "    }\n",
       "\n",
       "    .dataframe tbody tr th {\n",
       "        vertical-align: top;\n",
       "    }\n",
       "\n",
       "    .dataframe thead th {\n",
       "        text-align: right;\n",
       "    }\n",
       "</style>\n",
       "<table border=\"1\" class=\"dataframe\">\n",
       "  <thead>\n",
       "    <tr style=\"text-align: right;\">\n",
       "      <th></th>\n",
       "      <th>Company</th>\n",
       "      <th>Job</th>\n",
       "      <th>Lieu</th>\n",
       "      <th>Domaine</th>\n",
       "      <th>Mise en ligne</th>\n",
       "      <th>Link</th>\n",
       "    </tr>\n",
       "  </thead>\n",
       "  <tbody>\n",
       "    <tr>\n",
       "      <th>0</th>\n",
       "      <td>Altice France SFR RMC BFM</td>\n",
       "      <td>[SFR] Responsable Communication (h/f) - Commun...</td>\n",
       "      <td>Paris</td>\n",
       "      <td>Média, Télévision / Production audiovisuelle, ...</td>\n",
       "      <td>il y a 17 heures</td>\n",
       "      <td>https://www.welcometothejungle.com/fr/companie...</td>\n",
       "    </tr>\n",
       "    <tr>\n",
       "      <th>1</th>\n",
       "      <td>Thales</td>\n",
       "      <td>Responsable d'offres - Systèmes de communicati...</td>\n",
       "      <td>Gennevilliers</td>\n",
       "      <td>Logiciels, Cybersécurité, Aéronautique / Spatiale</td>\n",
       "      <td>il y a 16 heures</td>\n",
       "      <td>https://www.welcometothejungle.com/fr/companie...</td>\n",
       "    </tr>\n",
       "    <tr>\n",
       "      <th>2</th>\n",
       "      <td>Thales</td>\n",
       "      <td>Chef de Projet Produit (PPM) Communications Aé...</td>\n",
       "      <td>Gennevilliers</td>\n",
       "      <td>Logiciels, Cybersécurité, Aéronautique / Spatiale</td>\n",
       "      <td>il y a 16 heures</td>\n",
       "      <td>https://www.welcometothejungle.com/fr/companie...</td>\n",
       "    </tr>\n",
       "    <tr>\n",
       "      <th>3</th>\n",
       "      <td>Decathlon</td>\n",
       "      <td>STAGE Communication Atelier régional (platefor...</td>\n",
       "      <td>Mondeville</td>\n",
       "      <td>Sport, Distribution sélective</td>\n",
       "      <td>il y a 17 heures</td>\n",
       "      <td>https://www.welcometothejungle.com/fr/companie...</td>\n",
       "    </tr>\n",
       "    <tr>\n",
       "      <th>4</th>\n",
       "      <td>Thales</td>\n",
       "      <td>Responsable d'offres - Systèmes de communicati...</td>\n",
       "      <td>Gennevilliers</td>\n",
       "      <td>Logiciels, Cybersécurité, Aéronautique / Spatiale</td>\n",
       "      <td>il y a 16 heures</td>\n",
       "      <td>https://www.welcometothejungle.com/fr/companie...</td>\n",
       "    </tr>\n",
       "    <tr>\n",
       "      <th>5</th>\n",
       "      <td>Thales</td>\n",
       "      <td>Ingénieur IVVQ - Unités de Communication - F/H</td>\n",
       "      <td>Cholet</td>\n",
       "      <td>Logiciels, Cybersécurité, Aéronautique / Spatiale</td>\n",
       "      <td>il y a 16 heures</td>\n",
       "      <td>https://www.welcometothejungle.com/fr/companie...</td>\n",
       "    </tr>\n",
       "  </tbody>\n",
       "</table>\n",
       "</div>"
      ],
      "text/plain": [
       "                     Company  \\\n",
       "0  Altice France SFR RMC BFM   \n",
       "1                     Thales   \n",
       "2                     Thales   \n",
       "3                  Decathlon   \n",
       "4                     Thales   \n",
       "5                     Thales   \n",
       "\n",
       "                                                 Job           Lieu  \\\n",
       "0  [SFR] Responsable Communication (h/f) - Commun...          Paris   \n",
       "1  Responsable d'offres - Systèmes de communicati...  Gennevilliers   \n",
       "2  Chef de Projet Produit (PPM) Communications Aé...  Gennevilliers   \n",
       "3  STAGE Communication Atelier régional (platefor...     Mondeville   \n",
       "4  Responsable d'offres - Systèmes de communicati...  Gennevilliers   \n",
       "5     Ingénieur IVVQ - Unités de Communication - F/H         Cholet   \n",
       "\n",
       "                                             Domaine     Mise en ligne  \\\n",
       "0  Média, Télévision / Production audiovisuelle, ...  il y a 17 heures   \n",
       "1  Logiciels, Cybersécurité, Aéronautique / Spatiale  il y a 16 heures   \n",
       "2  Logiciels, Cybersécurité, Aéronautique / Spatiale  il y a 16 heures   \n",
       "3                      Sport, Distribution sélective  il y a 17 heures   \n",
       "4  Logiciels, Cybersécurité, Aéronautique / Spatiale  il y a 16 heures   \n",
       "5  Logiciels, Cybersécurité, Aéronautique / Spatiale  il y a 16 heures   \n",
       "\n",
       "                                                Link  \n",
       "0  https://www.welcometothejungle.com/fr/companie...  \n",
       "1  https://www.welcometothejungle.com/fr/companie...  \n",
       "2  https://www.welcometothejungle.com/fr/companie...  \n",
       "3  https://www.welcometothejungle.com/fr/companie...  \n",
       "4  https://www.welcometothejungle.com/fr/companie...  \n",
       "5  https://www.welcometothejungle.com/fr/companie...  "
      ]
     },
     "execution_count": 29,
     "metadata": {},
     "output_type": "execute_result"
    }
   ],
   "source": [
    "base = \"https://www.welcometothejungle.com\"\n",
    "df = pd.DataFrame(columns=[\"Company\",\"Job\",\"Lieu\",\"Domaine\",\"Mise en ligne\",\"Link\"])\n",
    "\n",
    "for job in jobs_list : \n",
    "    #print(\"Ofrre \",i)\n",
    "    row = get_info(base+job)\n",
    "    a = pd.DataFrame([row],columns=[\"Company\",\"Job\",\"Lieu\",\"Domaine\",\"Mise en ligne\",\"Link\"])\n",
    "    df = pd.concat([df,a],ignore_index=True)\n",
    "    \n",
    "    #print(\"---------------------------\")\n",
    "df = df.drop_duplicates().reset_index(drop=True)\n",
    "df"
   ]
  },
  {
   "cell_type": "code",
   "execution_count": 55,
   "id": "e1f416e0-3c69-4c2a-9190-3366826a6b5f",
   "metadata": {
    "tags": []
   },
   "outputs": [
    {
     "data": {
      "text/plain": [
       "[]"
      ]
     },
     "execution_count": 55,
     "metadata": {},
     "output_type": "execute_result"
    }
   ],
   "source": [
    "wttj_url = 'https://www.welcometothejungle.com/fr/jobs?query=&page=1&aroundQuery=worldwide'\n",
    "page = requests.get(wttj_url)\n",
    "page.text \n",
    "soup = bs(page.text, \"html.parser\")\n",
    "tous = soup.find_all('div')\n",
    "\n",
    "\n",
    "all_elements_with_classes = soup.find_all('div',{'data-objectid':True})\n",
    "\n",
    "# Initialiser un dictionnaire pour stocker le compte de chaque classe\n",
    "class_count = {}\n",
    "\n",
    "# Compter le nombre d'occurrences de chaque classe\n",
    "for element in all_elements_with_classes:\n",
    "    classes = element.get('class', [])\n",
    "    for class_name in classes:\n",
    "        class_count[class_name] = class_count.get(class_name, 0) + 1\n",
    "\n",
    "# Afficher le compte de chaque classe\n",
    "for class_name, count in class_count.items():\n",
    "    (f\"La classe '{class_name}' apparaît {count} fois.\")\n",
    "\n",
    "all_elements_with_classes\n"
   ]
  },
  {
   "cell_type": "code",
   "execution_count": 40,
   "id": "d49a4d8d-677f-4869-9611-dd17e23be888",
   "metadata": {},
   "outputs": [],
   "source": [
    "df.to_csv(r'./welcome_to_the¨jungle.csv', index=False, header=True)"
   ]
  },
  {
   "cell_type": "code",
   "execution_count": 44,
   "id": "8379f4c7-8720-436f-aa17-10a59020baeb",
   "metadata": {},
   "outputs": [
    {
     "name": "stdout",
     "output_type": "stream",
     "text": [
      "[]\n"
     ]
    }
   ],
   "source": [
    "div_element = soup.find('div')\n",
    "\n",
    "# Extraire la liste des classes qui contiennent 'sc-bXCLTC'\n",
    "if div_element:\n",
    "    classes_matching = [classe for classe in div_element.get('class', []) if 'sc-bXCLTC' in classe]\n",
    "    print(classes_matching)\n",
    "else:\n",
    "    print(\"Élément non trouvé\")"
   ]
  },
  {
   "cell_type": "code",
   "execution_count": null,
   "id": "b464d81c-ba3a-4aee-9a66-2f5b2035aa5f",
   "metadata": {},
   "outputs": [],
   "source": []
  }
 ],
 "metadata": {
  "kernelspec": {
   "display_name": "Python 3 (ipykernel)",
   "language": "python",
   "name": "python3"
  },
  "language_info": {
   "codemirror_mode": {
    "name": "ipython",
    "version": 3
   },
   "file_extension": ".py",
   "mimetype": "text/x-python",
   "name": "python",
   "nbconvert_exporter": "python",
   "pygments_lexer": "ipython3",
   "version": "3.8.18"
  }
 },
 "nbformat": 4,
 "nbformat_minor": 5
}
